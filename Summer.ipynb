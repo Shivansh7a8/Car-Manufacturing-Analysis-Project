{
  "nbformat": 4,
  "nbformat_minor": 0,
  "metadata": {
    "kernelspec": {
      "display_name": "Python 2",
      "language": "python",
      "name": "python2"
    },
    "language_info": {
      "codemirror_mode": {
        "name": "ipython",
        "version": 2
      },
      "file_extension": ".py",
      "mimetype": "text/x-python",
      "name": "python",
      "nbconvert_exporter": "python",
      "pygments_lexer": "ipython2",
      "version": "2.7.16"
    },
    "colab": {
      "name": "Summer.ipynb",
      "provenance": [],
      "collapsed_sections": []
    }
  },
  "cells": [
    {
      "cell_type": "markdown",
      "metadata": {
        "id": "ykJdwpm8ReZF"
      },
      "source": [
        "# Summer Olympics Data Analysis Assignment"
      ]
    },
    {
      "cell_type": "code",
      "metadata": {
        "id": "U5JST3kNR5y5"
      },
      "source": [
        "import pandas as pd\n",
        "import numpy as np\n",
        "import matplotlib.pyplot as plt"
      ],
      "execution_count": null,
      "outputs": []
    },
    {
      "cell_type": "code",
      "metadata": {
        "id": "nJIHymqFU5P7"
      },
      "source": [
        "df=pd.read_csv(\"summer.csv\")"
      ],
      "execution_count": null,
      "outputs": []
    },
    {
      "cell_type": "code",
      "metadata": {
        "id": "z6C9t42pVAxq"
      },
      "source": [
        "df.head()"
      ],
      "execution_count": null,
      "outputs": []
    },
    {
      "cell_type": "markdown",
      "metadata": {
        "id": "oVP_tPQ2ReZS"
      },
      "source": [
        "### 1. In how many cities Summer Olympics is held so far?"
      ]
    },
    {
      "cell_type": "code",
      "metadata": {
        "id": "Dyv4xhKPReZb"
      },
      "source": [
        "data=[]\n",
        "\n",
        "for City in df['City'].unique():\n",
        "  data.append([City,len(df[df['City']==City])])\n",
        "\n",
        "pd.DataFrame(data,columns = ['City','Year']).sort_values(by='Year',ascending=False).plot(x='City',y='Year',kind='bar', figsize = (8,5))  "
      ],
      "execution_count": null,
      "outputs": []
    },
    {
      "cell_type": "markdown",
      "metadata": {
        "id": "Mewk69LtReZg"
      },
      "source": [
        "### 2. Which sport is having most number of Gold Medals so far? (Top 5)"
      ]
    },
    {
      "cell_type": "code",
      "metadata": {
        "id": "r6Nn2zbJReZi"
      },
      "source": [
        "data=[]\n",
        "\n",
        "for Sport in df['Sport'].unique():\n",
        "  data.append([Sport,len(df[df['Sport']==Sport])])\n",
        "\n",
        "pd.DataFrame(data,columns = ['Sport','Gold']).sort_values(by='Gold',ascending=False).head().plot(x='Sport',y='Gold',kind='bar', figsize = (5,5))  "
      ],
      "execution_count": null,
      "outputs": []
    },
    {
      "cell_type": "markdown",
      "metadata": {
        "id": "pLdg4qQwReZk"
      },
      "source": [
        "### 3. Which sport is having most number of medals so far? (Top 5)"
      ]
    },
    {
      "cell_type": "code",
      "metadata": {
        "id": "M_ht6LVxReZm"
      },
      "source": [
        "data=[]\n",
        "\n",
        "for Sport in df['Sport'].unique():\n",
        "  data.append([Sport,len(df[df['Sport']==Sport])])\n",
        "\n",
        "pd.DataFrame(data,columns = ['Sport','Medal']).sort_values(by='Medal',ascending=False).head().plot(x='Sport',y='Medal',kind='bar', figsize = (5,5))  "
      ],
      "execution_count": null,
      "outputs": []
    },
    {
      "cell_type": "markdown",
      "metadata": {
        "id": "eQOPw-_bReZt"
      },
      "source": [
        "### 4. Which player has won most number of medals? (Top 5)"
      ]
    },
    {
      "cell_type": "code",
      "metadata": {
        "id": "x8iGl7HFjZHm"
      },
      "source": [
        "data=[]\n",
        "\n",
        "for Athlete in df['Athlete'].unique():\n",
        "  data.append([Athlete,len(df[df['Athlete']==Athlete])])\n",
        "\n",
        "pd.DataFrame(data,columns = ['Athlete','Medal']).sort_values(by='Medal',ascending=False).head().plot(x='Athlete',y='Medal',kind='bar', figsize = (5,5))  "
      ],
      "execution_count": null,
      "outputs": []
    },
    {
      "cell_type": "markdown",
      "metadata": {
        "id": "7FvEZ3KiReZx"
      },
      "source": [
        "### 5. Which player has won most number Gold Medals of medals? (Top 5)"
      ]
    },
    {
      "cell_type": "code",
      "metadata": {
        "id": "hodjzz1jReZy"
      },
      "source": [
        "data=[]\n",
        "\n",
        "for Athlete in df['Athlete'].unique():\n",
        "  data.append([Athlete,len(df[df['Athlete']==Athlete])])\n",
        "\n",
        "pd.DataFrame(data,columns = ['Athlete','Gold']).sort_values(by='Gold',ascending=False).head().plot(x='Athlete',y='Gold',kind='bar', figsize = (5,5))  "
      ],
      "execution_count": null,
      "outputs": []
    },
    {
      "cell_type": "markdown",
      "metadata": {
        "id": "EoqyWUEEReZ0"
      },
      "source": [
        "### 6. In which year India won first Gold Medal in Summer Olympics?"
      ]
    },
    {
      "cell_type": "code",
      "metadata": {
        "id": "CbIV740Ii0D0"
      },
      "source": [
        "df=pd.read_csv(\"summer.csv\")\n",
        "df=df[df['Country']=='IND']\n",
        "df=df[df['Medal']=='Gold']\n",
        "df=df['Year'].min()\n",
        "print \"Year in which india won first gold medal is:\",df "
      ],
      "execution_count": null,
      "outputs": []
    },
    {
      "cell_type": "markdown",
      "metadata": {
        "id": "NRgaqDqUReZ3"
      },
      "source": [
        "### 7. Which event is most popular in terms on number of players? (Top 5)"
      ]
    },
    {
      "cell_type": "code",
      "metadata": {
        "id": "rtKiDUJ3ReZ6"
      },
      "source": [
        "data=[]\n",
        "\n",
        "for Event in df['Event'].unique():\n",
        "  data.append([Event,len(df[df['Event']==Event])])\n",
        "\n",
        "pd.DataFrame(data,columns = ['Event','Athlete']).sort_values(by='Athlete',ascending=False).head().plot(x='Event',y='Athlete',kind='bar', figsize = (8,5)) "
      ],
      "execution_count": null,
      "outputs": []
    },
    {
      "cell_type": "markdown",
      "metadata": {
        "id": "fiwedUfoReZ8"
      },
      "source": [
        "### 8. Which sport is having most female Gold Medalists? (Top 5)"
      ]
    },
    {
      "cell_type": "code",
      "metadata": {
        "id": "3T2TdJblReZ-"
      },
      "source": [
        "data=[]\n",
        "\n",
        "for Sport in df['Sport'].unique():\n",
        "  data.append([Sport,len(df[df['Sport']==Sport])])\n",
        "\n",
        "pd.DataFrame(data,columns = ['Sport','Female']).sort_values(by='Female',ascending=False).head().plot(x='Sport',y='Female',kind='bar', figsize = (8,5))"
      ],
      "execution_count": null,
      "outputs": []
    }
  ]
}